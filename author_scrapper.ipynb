{
 "cells": [
  {
   "cell_type": "code",
   "execution_count": null,
   "metadata": {},
   "outputs": [],
   "source": [
    "%pylab inline\n",
    "import scholarly\n",
    "import pandas as pd"
   ]
  },
  {
   "cell_type": "code",
   "execution_count": null,
   "metadata": {},
   "outputs": [],
   "source": [
    "def get_author_list(filename):\n",
    "    '''\n",
    "    Assume that you have a file with 'LastName\\tFirstName' in each line\n",
    "    adds ualberta since the authors are from ualberta\n",
    "    WARNING: We assume all punctuation has been removed and encoding is utf-8\n",
    "    '''\n",
    "    authors = []\n",
    "    with open(filename, 'r', encoding='utf-8') as f:\n",
    "        for l in f:\n",
    "            s = l.strip().split('\\t')\n",
    "            total = f'{s[1]} {s[0]} ualberta' \n",
    "            authors.append(total)\n",
    "    return authors"
   ]
  },
  {
   "cell_type": "code",
   "execution_count": null,
   "metadata": {},
   "outputs": [],
   "source": [
    "def get_pub_list(google_profile):\n",
    "    '''\n",
    "    Loops through google profile publications and extracts information as a dictionary\n",
    "    Input: Author->google_profile\n",
    "    Output: list[dict]\n",
    "    '''\n",
    "    return [pub_to_dict(google_profile.id, i) for i in google_profile.publications]\n",
    "    \n",
    "def pub_to_dict(author_id, pub):\n",
    "    '''\n",
    "    Extracts basic information about a publication into a dictionary\n",
    "    This list is later transformed into a table that can be queried by author_id\n",
    "    \n",
    "    Input: string->author_id\n",
    "           Publication->pub \n",
    "    '''\n",
    "    y_pub = 0\n",
    "    \n",
    "    try:\n",
    "        y_pub = pub.bib['year']\n",
    "    except:\n",
    "        y_pub = 0\n",
    "    \n",
    "    return {'author_id': author_id, 'title':pub.bib['title'], 'year':y_pub}"
   ]
  },
  {
   "cell_type": "code",
   "execution_count": null,
   "metadata": {},
   "outputs": [],
   "source": [
    "def get_gs_profile(name):\n",
    "    '''\n",
    "    Collects the information from the google profile based on the Author Name\n",
    "    Formats into a dictionary with basic information and returns\n",
    "    \n",
    "    Input: string->name\n",
    "    Output: dict\n",
    "    '''\n",
    "    print(f\"Searching: {name}\")\n",
    "    search_query = scholarly.search_author(name)\n",
    "    try:\n",
    "        gs = next(search_query).fill()\n",
    "    except:\n",
    "        print(f'{name} not Found')\n",
    "        return False\n",
    "    \n",
    "    get_pub_list(gs)\n",
    "        \n",
    "    return {'author_id':gs.id, \n",
    "            'name':gs.name, \n",
    "            'h_index':gs.hindex, \n",
    "            'citation_count':gs.citedby, \n",
    "            'citation_count_5y':gs.citedby5y, \n",
    "            'coauthors_count':len(gs.coauthors)}"
   ]
  },
  {
   "cell_type": "code",
   "execution_count": null,
   "metadata": {},
   "outputs": [],
   "source": [
    "pd.DataFrame(pubs).to_csv('pubs.csv')\n",
    "pd.DataFrame(aut_table).to_csv('authors_science.csv')"
   ]
  }
 ],
 "metadata": {
  "kernelspec": {
   "display_name": "Python 3",
   "language": "python",
   "name": "python3"
  },
  "language_info": {
   "codemirror_mode": {
    "name": "ipython",
    "version": 3
   },
   "file_extension": ".py",
   "mimetype": "text/x-python",
   "name": "python",
   "nbconvert_exporter": "python",
   "pygments_lexer": "ipython3",
   "version": "3.7.3"
  }
 },
 "nbformat": 4,
 "nbformat_minor": 2
}
